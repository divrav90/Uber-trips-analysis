{
 "cells": [
  {
   "cell_type": "markdown",
   "metadata": {
    "id": "98yskoA9197_"
   },
   "source":
  },
  {
   "cell_type": "markdown",
   "metadata": {
    "id": "WiVXvuYj198C"
   },
   "source": [
    "# Load the necessary libraries. Import and load the dataset with a name uber_drives ."
   ]
  },
  {
   "cell_type": "code",
   "execution_count": 3,
   "metadata": {
    "id": "1t_S2Qw_198D"
   },
   "outputs": [],
   "source": [
    "import numpy as np\n",
    "import pandas as pd\n",
    "import seaborn as sns\n",
    "import matplotlib.pyplot as plt\n",
    "sns.set(color_codes=True)\n",
    "%matplotlib inline"
   ]
  },
  {
   "cell_type": "code",
   "execution_count": 10,
   "metadata": {
    "id": "rOMfio427XfR"
   },
   "outputs": [],
   "source": [
    "# Get the Data\n",
    "\n",
    "uber_drives=pd.read_csv('C:\\\\Users\\\\divya\\\\OneDrive\\\\Desktop\\\\Data sets\\\\uberdrives.csv')"
   ]
  },
  {
   "cell_type": "markdown",
   "metadata": {
    "id": "DZktgL3E198I"
   },
   "source": [
   The last 10 records of the dataset:
   ]
  },
  {
   "cell_type": "code",
   "execution_count": 14,
   "metadata": {
    "colab": {
     "base_uri": "https://localhost:8080/",
     "height": 359
    },
    "id": "pk7z2uii198I",
    "outputId": "d08542a6-facc-4407-c359-c396ae9859a4"
   },
   "outputs": [
    {
     "data": {
      "text/html": [
       "<div>\n",
       "<style scoped>\n",
       "    .dataframe tbody tr th:only-of-type {\n",
       "        vertical-align: middle;\n",
       "    }\n",
       "\n",
       "    .dataframe tbody tr th {\n",
       "        vertical-align: top;\n",
       "    }\n",
       "\n",
       "    .dataframe thead th {\n",
       "        text-align: right;\n",
       "    }\n",
       "</style>\n",
       "<table border=\"1\" class=\"dataframe\">\n",
       "  <thead>\n",
       "    <tr style=\"text-align: right;\">\n",
       "      <th></th>\n",
       "      <th>START_DATE*</th>\n",
       "      <th>END_DATE*</th>\n",
       "      <th>CATEGORY*</th>\n",
       "      <th>START*</th>\n",
       "      <th>STOP*</th>\n",
       "      <th>MILES*</th>\n",
       "      <th>PURPOSE*</th>\n",
       "    </tr>\n",
       "  </thead>\n",
       "  <tbody>\n",
       "    <tr>\n",
       "      <th>1145</th>\n",
       "      <td>12/30/2016 10:15</td>\n",
       "      <td>12/30/2016 10:33</td>\n",
       "      <td>Business</td>\n",
       "      <td>Karachi</td>\n",
       "      <td>Karachi</td>\n",
       "      <td>2.8</td>\n",
       "      <td>Errand/Supplies</td>\n",
       "    </tr>\n",
       "    <tr>\n",
       "      <th>1146</th>\n",
       "      <td>12/30/2016 11:31</td>\n",
       "      <td>12/30/2016 11:56</td>\n",
       "      <td>Business</td>\n",
       "      <td>Karachi</td>\n",
       "      <td>Karachi</td>\n",
       "      <td>2.9</td>\n",
       "      <td>Errand/Supplies</td>\n",
       "    </tr>\n",
       "    <tr>\n",
       "      <th>1147</th>\n",
       "      <td>12/30/2016 15:41</td>\n",
       "      <td>12/30/2016 16:03</td>\n",
       "      <td>Business</td>\n",
       "      <td>Karachi</td>\n",
       "      <td>Karachi</td>\n",
       "      <td>4.6</td>\n",
       "      <td>Errand/Supplies</td>\n",
       "    </tr>\n",
       "    <tr>\n",
       "      <th>1148</th>\n",
       "      <td>12/30/2016 16:45</td>\n",
       "      <td>12/30/2016 17:08</td>\n",
       "      <td>Business</td>\n",
       "      <td>Karachi</td>\n",
       "      <td>Karachi</td>\n",
       "      <td>4.6</td>\n",
       "      <td>Meeting</td>\n",
       "    </tr>\n",
       "    <tr>\n",
       "      <th>1149</th>\n",
       "      <td>12/30/2016 23:06</td>\n",
       "      <td>12/30/2016 23:10</td>\n",
       "      <td>Business</td>\n",
       "      <td>Karachi</td>\n",
       "      <td>Karachi</td>\n",
       "      <td>0.8</td>\n",
       "      <td>Customer Visit</td>\n",
       "    </tr>\n",
       "    <tr>\n",
       "      <th>1150</th>\n",
       "      <td>12/31/2016 1:07</td>\n",
       "      <td>12/31/2016 1:14</td>\n",
       "      <td>Business</td>\n",
       "      <td>Karachi</td>\n",
       "      <td>Karachi</td>\n",
       "      <td>0.7</td>\n",
       "      <td>Meeting</td>\n",
       "    </tr>\n",
       "    <tr>\n",
       "      <th>1151</th>\n",
       "      <td>12/31/2016 13:24</td>\n",
       "      <td>12/31/2016 13:42</td>\n",
       "      <td>Business</td>\n",
       "      <td>Karachi</td>\n",
       "      <td>Unknown Location</td>\n",
       "      <td>3.9</td>\n",
       "      <td>Temporary Site</td>\n",
       "    </tr>\n",
       "    <tr>\n",
       "      <th>1152</th>\n",
       "      <td>12/31/2016 15:03</td>\n",
       "      <td>12/31/2016 15:38</td>\n",
       "      <td>Business</td>\n",
       "      <td>Unknown Location</td>\n",
       "      <td>Unknown Location</td>\n",
       "      <td>16.2</td>\n",
       "      <td>Meeting</td>\n",
       "    </tr>\n",
       "    <tr>\n",
       "      <th>1153</th>\n",
       "      <td>12/31/2016 21:32</td>\n",
       "      <td>12/31/2016 21:50</td>\n",
       "      <td>Business</td>\n",
       "      <td>Katunayake</td>\n",
       "      <td>Gampaha</td>\n",
       "      <td>6.4</td>\n",
       "      <td>Temporary Site</td>\n",
       "    </tr>\n",
       "    <tr>\n",
       "      <th>1154</th>\n",
       "      <td>12/31/2016 22:08</td>\n",
       "      <td>12/31/2016 23:51</td>\n",
       "      <td>Business</td>\n",
       "      <td>Gampaha</td>\n",
       "      <td>Ilukwatta</td>\n",
       "      <td>48.2</td>\n",
       "      <td>Temporary Site</td>\n",
       "    </tr>\n",
       "  </tbody>\n",
       "</table>\n",
       "</div>"
      ],
      "text/plain": [
       "           START_DATE*         END_DATE* CATEGORY*            START*  \\\n",
       "1145  12/30/2016 10:15  12/30/2016 10:33  Business           Karachi   \n",
       "1146  12/30/2016 11:31  12/30/2016 11:56  Business           Karachi   \n",
       "1147  12/30/2016 15:41  12/30/2016 16:03  Business           Karachi   \n",
       "1148  12/30/2016 16:45  12/30/2016 17:08  Business           Karachi   \n",
       "1149  12/30/2016 23:06  12/30/2016 23:10  Business           Karachi   \n",
       "1150   12/31/2016 1:07   12/31/2016 1:14  Business           Karachi   \n",
       "1151  12/31/2016 13:24  12/31/2016 13:42  Business           Karachi   \n",
       "1152  12/31/2016 15:03  12/31/2016 15:38  Business  Unknown Location   \n",
       "1153  12/31/2016 21:32  12/31/2016 21:50  Business        Katunayake   \n",
       "1154  12/31/2016 22:08  12/31/2016 23:51  Business           Gampaha   \n",
       "\n",
       "                 STOP*  MILES*         PURPOSE*  \n",
       "1145           Karachi     2.8  Errand/Supplies  \n",
       "1146           Karachi     2.9  Errand/Supplies  \n",
       "1147           Karachi     4.6  Errand/Supplies  \n",
       "1148           Karachi     4.6          Meeting  \n",
       "1149           Karachi     0.8   Customer Visit  \n",
       "1150           Karachi     0.7          Meeting  \n",
       "1151  Unknown Location     3.9   Temporary Site  \n",
       "1152  Unknown Location    16.2          Meeting  \n",
       "1153           Gampaha     6.4   Temporary Site  \n",
       "1154         Ilukwatta    48.2   Temporary Site  "
      ]
     },
     "execution_count": 14,
     "metadata": {},
     "output_type": "execute_result"
    }
   ],
   "source": [
    "# Below function gives last 10 Records of the dataset\n",
    "\n",
    "uber_drives.tail(10)"
   ]
  },
  {
   "cell_type": "markdown",
   "metadata": {
    "id": "ipD0ZQ9O198O"
   },
   "source": [
    The first 10 records of the dataset:
   ]
  },
  {
   "cell_type": "code",
   "execution_count": 6,
   "metadata": {
    "colab": {
     "base_uri": "https://localhost:8080/",
     "height": 359
    },
    "id": "XzYRsxR1198O",
    "outputId": "453fc6bd-26c1-41d1-82a4-f5bbacda0723"
   },
   "outputs": [
    {
     "data": {
      "text/html": [
       "<div>\n",
       "<style scoped>\n",
       "    .dataframe tbody tr th:only-of-type {\n",
       "        vertical-align: middle;\n",
       "    }\n",
       "\n",
       "    .dataframe tbody tr th {\n",
       "        vertical-align: top;\n",
       "    }\n",
       "\n",
       "    .dataframe thead th {\n",
       "        text-align: right;\n",
       "    }\n",
       "</style>\n",
       "<table border=\"1\" class=\"dataframe\">\n",
       "  <thead>\n",
       "    <tr style=\"text-align: right;\">\n",
       "      <th></th>\n",
       "      <th>START_DATE*</th>\n",
       "      <th>END_DATE*</th>\n",
       "      <th>CATEGORY*</th>\n",
       "      <th>START*</th>\n",
       "      <th>STOP*</th>\n",
       "      <th>MILES*</th>\n",
       "      <th>PURPOSE*</th>\n",
       "    </tr>\n",
       "  </thead>\n",
       "  <tbody>\n",
       "    <tr>\n",
       "      <th>0</th>\n",
       "      <td>01-01-2016 21:11</td>\n",
       "      <td>01-01-2016 21:17</td>\n",
       "      <td>Business</td>\n",
       "      <td>Fort Pierce</td>\n",
       "      <td>Fort Pierce</td>\n",
       "      <td>5.1</td>\n",
       "      <td>Meal/Entertain</td>\n",
       "    </tr>\n",
       "    <tr>\n",
       "      <th>1</th>\n",
       "      <td>01-02-2016 01:25</td>\n",
       "      <td>01-02-2016 01:37</td>\n",
       "      <td>Business</td>\n",
       "      <td>Fort Pierce</td>\n",
       "      <td>Fort Pierce</td>\n",
       "      <td>5.0</td>\n",
       "      <td>NaN</td>\n",
       "    </tr>\n",
       "    <tr>\n",
       "      <th>2</th>\n",
       "      <td>01-02-2016 20:25</td>\n",
       "      <td>01-02-2016 20:38</td>\n",
       "      <td>Business</td>\n",
       "      <td>Fort Pierce</td>\n",
       "      <td>Fort Pierce</td>\n",
       "      <td>4.8</td>\n",
       "      <td>Errand/Supplies</td>\n",
       "    </tr>\n",
       "    <tr>\n",
       "      <th>3</th>\n",
       "      <td>01-05-2016 17:31</td>\n",
       "      <td>01-05-2016 17:45</td>\n",
       "      <td>Business</td>\n",
       "      <td>Fort Pierce</td>\n",
       "      <td>Fort Pierce</td>\n",
       "      <td>4.7</td>\n",
       "      <td>Meeting</td>\n",
       "    </tr>\n",
       "    <tr>\n",
       "      <th>4</th>\n",
       "      <td>01-06-2016 14:42</td>\n",
       "      <td>01-06-2016 15:49</td>\n",
       "      <td>Business</td>\n",
       "      <td>Fort Pierce</td>\n",
       "      <td>West Palm Beach</td>\n",
       "      <td>63.7</td>\n",
       "      <td>Customer Visit</td>\n",
       "    </tr>\n",
       "    <tr>\n",
       "      <th>5</th>\n",
       "      <td>01-06-2016 17:15</td>\n",
       "      <td>01-06-2016 17:19</td>\n",
       "      <td>Business</td>\n",
       "      <td>West Palm Beach</td>\n",
       "      <td>West Palm Beach</td>\n",
       "      <td>4.3</td>\n",
       "      <td>Meal/Entertain</td>\n",
       "    </tr>\n",
       "    <tr>\n",
       "      <th>6</th>\n",
       "      <td>01-06-2016 17:30</td>\n",
       "      <td>01-06-2016 17:35</td>\n",
       "      <td>Business</td>\n",
       "      <td>West Palm Beach</td>\n",
       "      <td>Palm Beach</td>\n",
       "      <td>7.1</td>\n",
       "      <td>Meeting</td>\n",
       "    </tr>\n",
       "    <tr>\n",
       "      <th>7</th>\n",
       "      <td>01-07-2016 13:27</td>\n",
       "      <td>01-07-2016 13:33</td>\n",
       "      <td>Business</td>\n",
       "      <td>Cary</td>\n",
       "      <td>Cary</td>\n",
       "      <td>0.8</td>\n",
       "      <td>Meeting</td>\n",
       "    </tr>\n",
       "    <tr>\n",
       "      <th>8</th>\n",
       "      <td>01-10-2016 08:05</td>\n",
       "      <td>01-10-2016 08:25</td>\n",
       "      <td>Business</td>\n",
       "      <td>Cary</td>\n",
       "      <td>Morrisville</td>\n",
       "      <td>8.3</td>\n",
       "      <td>Meeting</td>\n",
       "    </tr>\n",
       "    <tr>\n",
       "      <th>9</th>\n",
       "      <td>01-10-2016 12:17</td>\n",
       "      <td>01-10-2016 12:44</td>\n",
       "      <td>Business</td>\n",
       "      <td>Jamaica</td>\n",
       "      <td>New York</td>\n",
       "      <td>16.5</td>\n",
       "      <td>Customer Visit</td>\n",
       "    </tr>\n",
       "  </tbody>\n",
       "</table>\n",
       "</div>"
      ],
      "text/plain": [
       "        START_DATE*         END_DATE* CATEGORY*           START*  \\\n",
       "0  01-01-2016 21:11  01-01-2016 21:17  Business      Fort Pierce   \n",
       "1  01-02-2016 01:25  01-02-2016 01:37  Business      Fort Pierce   \n",
       "2  01-02-2016 20:25  01-02-2016 20:38  Business      Fort Pierce   \n",
       "3  01-05-2016 17:31  01-05-2016 17:45  Business      Fort Pierce   \n",
       "4  01-06-2016 14:42  01-06-2016 15:49  Business      Fort Pierce   \n",
       "5  01-06-2016 17:15  01-06-2016 17:19  Business  West Palm Beach   \n",
       "6  01-06-2016 17:30  01-06-2016 17:35  Business  West Palm Beach   \n",
       "7  01-07-2016 13:27  01-07-2016 13:33  Business             Cary   \n",
       "8  01-10-2016 08:05  01-10-2016 08:25  Business             Cary   \n",
       "9  01-10-2016 12:17  01-10-2016 12:44  Business          Jamaica   \n",
       "\n",
       "             STOP*  MILES*         PURPOSE*  \n",
       "0      Fort Pierce     5.1   Meal/Entertain  \n",
       "1      Fort Pierce     5.0              NaN  \n",
       "2      Fort Pierce     4.8  Errand/Supplies  \n",
       "3      Fort Pierce     4.7          Meeting  \n",
       "4  West Palm Beach    63.7   Customer Visit  \n",
       "5  West Palm Beach     4.3   Meal/Entertain  \n",
       "6       Palm Beach     7.1          Meeting  \n",
       "7             Cary     0.8          Meeting  \n",
       "8      Morrisville     8.3          Meeting  \n",
       "9         New York    16.5   Customer Visit  "
      ]
     },
     "execution_count": 6,
     "metadata": {},
     "output_type": "execute_result"
    }
   ],
   "source": [
    "# Below function gives first 10 Records of the dataset\n",
    "\n",
    "uber_drives.head(10)"
   ]
  },
  {
   "cell_type": "markdown",
   "metadata": {
    "id": "R2F4GX15198S"
   },
   "source": [
    The dimension(number of rows and columns) of the dataset:
   ]
  },
  {
   "cell_type": "code",
   "execution_count": 15,
   "metadata": {
    "colab": {
     "base_uri": "https://localhost:8080/"
    },
    "id": "5YAWUNwZ198T",
    "outputId": "36e5d587-b2e3-406b-8678-b8d9ea8aa79a"
   },
   "outputs": [
    {
     "data": {
      "text/plain": [
       "(1155, 7)"
      ]
     },
     "execution_count": 15,
     "metadata": {},
     "output_type": "execute_result"
    }
   ],
   "source": [
    "uber_drives.shape"
   ]
  },
  {
   "cell_type": "code",
   "execution_count": null,
   "metadata": {},
   "outputs": [],
   "source": [
    "# There are 1155 rows and 7 columns in the dataset"
   ]
  },
  {
   "cell_type": "markdown",
   "metadata": {
    "id": "H6x0S6vs198W"
   },
   "source": [
    "The size (Total number of elements) of the dataset"
   ]
  },
  {
   "cell_type": "code",
   "execution_count": 16,
   "metadata": {
    "colab": {
     "base_uri": "https://localhost:8080/"
    },
    "id": "2IQc1x7D198X",
    "outputId": "1d740ac9-5d96-489e-fd2a-8863d2b94655"
   },
   "outputs": [
    {
     "data": {
      "text/plain": [
       "8085"
      ]
     },
     "execution_count": 16,
     "metadata": {},
     "output_type": "execute_result"
    }
   ],
   "source": [
    "uber_drives.size"
   ]
  },
  {
   "cell_type": "code",
   "execution_count": null,
   "metadata": {},
   "outputs": [],
   "source": [
    "The Total number of elements in the dataset are 8085'.
   ]
  },
  {
   "cell_type": "markdown",
   "metadata": {
    "id": "c2ATRpjm198a"
   },
   "source": [
    "Info about variables:
    "\n",
   ]
  },
  {
   "cell_type": "code",
   "execution_count": 17,
   "metadata": {
    "colab": {
     "base_uri": "https://localhost:8080/"
    },
    "id": "D7Pfnrb6198b",
    "outputId": "33673c70-4ae3-410c-8495-a91a44c5a601"
   },
   "outputs": [
    {
     "name": "stdout",
     "output_type": "stream",
     "text": [
      "<class 'pandas.core.frame.DataFrame'>\n",
      "RangeIndex: 1155 entries, 0 to 1154\n",
      "Data columns (total 7 columns):\n",
      " #   Column       Non-Null Count  Dtype  \n",
      "---  ------       --------------  -----  \n",
      " 0   START_DATE*  1155 non-null   object \n",
      " 1   END_DATE*    1155 non-null   object \n",
      " 2   CATEGORY*    1155 non-null   object \n",
      " 3   START*       1155 non-null   object \n",
      " 4   STOP*        1155 non-null   object \n",
      " 5   MILES*       1155 non-null   float64\n",
      " 6   PURPOSE*     653 non-null    object \n",
      "dtypes: float64(1), object(6)\n",
      "memory usage: 63.3+ KB\n"
     ]
    }
   ],
   "source": [
    "uber_drives.info()"
   ]
  },
  {
   "cell_type": "code",
   "execution_count": null,
   "metadata": {},
   "outputs": [],
   "source": [
    "# From the above output, we can infer that, there are few null values in variable \"Purpose\"."
   ]
  },
  {
   "cell_type": "markdown",
   "metadata": {
    "id": "emZkbUV_198g"
   },
   "source": [
    "## Q6. Check for missing values. (2 points) \n",
    "\n",
    "####  Note: Output should contain only one boolean value"
   ]
  },
  {
   "cell_type": "code",
   "execution_count": 13,
   "metadata": {
    "colab": {
     "base_uri": "https://localhost:8080/"
    },
    "id": "XWU-AunT198h",
    "outputId": "cf6a6413-8b96-44a1-a3a6-cd3640761e2d"
   },
   "outputs": [
    {
     "data": {
      "text/plain": [
       "True"
      ]
     },
     "execution_count": 13,
     "metadata": {},
     "output_type": "execute_result"
    }
   ],
   "source": [
    "uber_drives.isnull().any().any()"
   ]
  },
  {
   "cell_type": "markdown",
   "metadata": {
    "id": "UCvC2OPe198l"
   },
   "source": [
    "## Q7. How many missing values are present in the entire dataset? (2 points)\n"
   ]
  },
  {
   "cell_type": "code",
   "execution_count": 14,
   "metadata": {
    "colab": {
     "base_uri": "https://localhost:8080/"
    },
    "id": "o2-vHyGA198m",
    "outputId": "60923ca7-1704-41c0-9620-6be35e10ed3b"
   },
   "outputs": [
    {
     "data": {
      "text/plain": [
       "START_DATE*      0\n",
       "END_DATE*        0\n",
       "CATEGORY*        0\n",
       "START*           0\n",
       "STOP*            0\n",
       "MILES*           0\n",
       "PURPOSE*       502\n",
       "dtype: int64"
      ]
     },
     "execution_count": 14,
     "metadata": {},
     "output_type": "execute_result"
    }
   ],
   "source": [
    "uber_drives.isnull().sum()"
   ]
  },
  {
   "cell_type": "code",
   "execution_count": null,
   "metadata": {},
   "outputs": [],
   "source": [
    "# The total number of missing values in the entire dataset are  502"
   ]
  },
  {
   "cell_type": "markdown",
   "metadata": {
    "id": "617aSeL_198q"
   },
   "source": [
    "## Q8. Get the summary of the original data. (2 points).\n",
    "\n",
    "#### Hint: Summary includes- Count,Mean, Std, Min, 25%,50%,75% and max"
   ]
  },
  {
   "cell_type": "code",
   "execution_count": 19,
   "metadata": {
    "colab": {
     "base_uri": "https://localhost:8080/",
     "height": 297
    },
    "id": "hMkibRQg198q",
    "outputId": "e4e9580a-3465-4bb5-d564-6b14bf8d4adb"
   },
   "outputs": [
    {
     "data": {
      "text/html": [
       "<div>\n",
       "<style scoped>\n",
       "    .dataframe tbody tr th:only-of-type {\n",
       "        vertical-align: middle;\n",
       "    }\n",
       "\n",
       "    .dataframe tbody tr th {\n",
       "        vertical-align: top;\n",
       "    }\n",
       "\n",
       "    .dataframe thead th {\n",
       "        text-align: right;\n",
       "    }\n",
       "</style>\n",
       "<table border=\"1\" class=\"dataframe\">\n",
       "  <thead>\n",
       "    <tr style=\"text-align: right;\">\n",
       "      <th></th>\n",
       "      <th>MILES*</th>\n",
       "    </tr>\n",
       "  </thead>\n",
       "  <tbody>\n",
       "    <tr>\n",
       "      <th>count</th>\n",
       "      <td>1155.000000</td>\n",
       "    </tr>\n",
       "    <tr>\n",
       "      <th>mean</th>\n",
       "      <td>10.566840</td>\n",
       "    </tr>\n",
       "    <tr>\n",
       "      <th>std</th>\n",
       "      <td>21.579106</td>\n",
       "    </tr>\n",
       "    <tr>\n",
       "      <th>min</th>\n",
       "      <td>0.500000</td>\n",
       "    </tr>\n",
       "    <tr>\n",
       "      <th>25%</th>\n",
       "      <td>2.900000</td>\n",
       "    </tr>\n",
       "    <tr>\n",
       "      <th>50%</th>\n",
       "      <td>6.000000</td>\n",
       "    </tr>\n",
       "    <tr>\n",
       "      <th>75%</th>\n",
       "      <td>10.400000</td>\n",
       "    </tr>\n",
       "    <tr>\n",
       "      <th>max</th>\n",
       "      <td>310.300000</td>\n",
       "    </tr>\n",
       "  </tbody>\n",
       "</table>\n",
       "</div>"
      ],
      "text/plain": [
       "            MILES*\n",
       "count  1155.000000\n",
       "mean     10.566840\n",
       "std      21.579106\n",
       "min       0.500000\n",
       "25%       2.900000\n",
       "50%       6.000000\n",
       "75%      10.400000\n",
       "max     310.300000"
      ]
     },
     "execution_count": 19,
     "metadata": {},
     "output_type": "execute_result"
    }
   ],
   "source": [
    "uber_drives.describe()"
   ]
  },
  {
   "cell_type": "markdown",
   "metadata": {
    "id": "8PmU-86n198v"
   },
   "source": [
    "\n",
    "\n",
    "## Q9. Drop the missing values and store the data in a new dataframe (name it\"df\") (2-points)\n",
    "\n",
    "#### Note: Dataframe \"df\" will not contain any missing value"
   ]
  },
  {
   "cell_type": "code",
   "execution_count": 19,
   "metadata": {
    "colab": {
     "base_uri": "https://localhost:8080/"
    },
    "id": "3xZC0dvq198w",
    "outputId": "1a2eb61f-65f4-4344-c151-e7f623a35fe6"
   },
   "outputs": [],
   "source": [
    "df=uber_drives.dropna()"
   ]
  },
  {
   "cell_type": "markdown",
   "metadata": {
    "id": "2vIFI9G61983"
   },
   "source": [
    "## Q10. Check the information of the dataframe(df). (1 points)\n",
    "\n",
    "#### Hint: Information includes - Total number of columns,variable data-types, number of non-null values in a variable, and usage"
   ]
  },
  {
   "cell_type": "code",
   "execution_count": 20,
   "metadata": {
    "colab": {
     "base_uri": "https://localhost:8080/"
    },
    "id": "DrmfQwDc1983",
    "outputId": "27394741-1b4e-4249-ee9b-728d388a6855"
   },
   "outputs": [
    {
     "name": "stdout",
     "output_type": "stream",
     "text": [
      "<class 'pandas.core.frame.DataFrame'>\n",
      "Int64Index: 653 entries, 0 to 1154\n",
      "Data columns (total 7 columns):\n",
      " #   Column       Non-Null Count  Dtype  \n",
      "---  ------       --------------  -----  \n",
      " 0   START_DATE*  653 non-null    object \n",
      " 1   END_DATE*    653 non-null    object \n",
      " 2   CATEGORY*    653 non-null    object \n",
      " 3   START*       653 non-null    object \n",
      " 4   STOP*        653 non-null    object \n",
      " 5   MILES*       653 non-null    float64\n",
      " 6   PURPOSE*     653 non-null    object \n",
      "dtypes: float64(1), object(6)\n",
      "memory usage: 40.8+ KB\n"
     ]
    }
   ],
   "source": [
    "df.info()"
   ]
  },
  {
   "cell_type": "markdown",
   "metadata": {
    "id": "Pqm4jhgT1986"
   },
   "source": [
    "## Q11. Get the unique start locations. (2 points)\n",
    "#### Note: This question is based on the dataframe with no 'NA' values"
   ]
  },
  {
   "cell_type": "code",
   "execution_count": 21,
   "metadata": {
    "colab": {
     "base_uri": "https://localhost:8080/"
    },
    "id": "jsuoItZX1987",
    "outputId": "22a926cf-9774-4223-a2d5-cf91ab160401"
   },
   "outputs": [
    {
     "data": {
      "text/plain": [
       "array(['Fort Pierce', 'West Palm Beach', 'Cary', 'Jamaica', 'New York',\n",
       "       'Elmhurst', 'Midtown', 'East Harlem', 'Flatiron District',\n",
       "       'Midtown East', 'Hudson Square', 'Lower Manhattan',\n",
       "       \"Hell's Kitchen\", 'Downtown', 'Gulfton', 'Houston', 'Eagan Park',\n",
       "       'Morrisville', 'Durham', 'Farmington Woods', 'Lake Wellingborough',\n",
       "       'Fayetteville Street', 'Raleigh', 'Whitebridge', 'Hazelwood',\n",
       "       'Fairmont', 'Meredith Townes', 'Apex', 'Chapel Hill', 'Northwoods',\n",
       "       'Edgehill Farms', 'Eastgate', 'East Elmhurst', 'Long Island City',\n",
       "       'Katunayaka', 'Colombo', 'Nugegoda', 'Unknown Location',\n",
       "       'Islamabad', 'R?walpindi', 'Noorpur Shahan', 'Preston',\n",
       "       'Heritage Pines', 'Tanglewood', 'Waverly Place', 'Wayne Ridge',\n",
       "       'Westpark Place', 'East Austin', 'The Drag', 'South Congress',\n",
       "       'Georgian Acres', 'North Austin', 'West University', 'Austin',\n",
       "       'Katy', 'Sharpstown', 'Sugar Land', 'Galveston', 'Port Bolivar',\n",
       "       'Washington Avenue', 'Briar Meadow', 'Latta', 'Jacksonville',\n",
       "       'Lake Reams', 'Orlando', 'Kissimmee', 'Daytona Beach', 'Ridgeland',\n",
       "       'Florence', 'Meredith', 'Holly Springs', 'Chessington', 'Burtrose',\n",
       "       'Parkway', 'Mcvan', 'Capitol One', 'University District',\n",
       "       'Seattle', 'Redmond', 'Bellevue', 'San Francisco', 'Palo Alto',\n",
       "       'Sunnyvale', 'Newark', 'Menlo Park', 'Old City', 'Savon Height',\n",
       "       'Kilarney Woods', 'Townes at Everett Crossing', 'Huntington Woods',\n",
       "       'Weston', 'Seaport', 'Medical Centre', 'Rose Hill', 'Soho',\n",
       "       'Tribeca', 'Financial District', 'Oakland', 'Emeryville',\n",
       "       'Berkeley', 'Kenner', 'CBD', 'Lower Garden District', 'Storyville',\n",
       "       'New Orleans', 'Chalmette', 'Arabi', 'Pontchartrain Shores',\n",
       "       'Metairie', 'Summerwinds', 'Parkwood', 'Banner Elk', 'Boone',\n",
       "       'Stonewater', 'Lexington Park at Amberly', 'Winston Salem',\n",
       "       'Asheville', 'Topton', 'Renaissance', 'Santa Clara', 'Ingleside',\n",
       "       'West Berkeley', 'Mountain View', 'El Cerrito', 'Krendle Woods',\n",
       "       'Fuquay-Varina', 'Rawalpindi', 'Lahore', 'Karachi', 'Katunayake',\n",
       "       'Gampaha'], dtype=object)"
      ]
     },
     "execution_count": 21,
     "metadata": {},
     "output_type": "execute_result"
    }
   ],
   "source": [
    "# The below function gives all the unique start locations in the dataframe.\n",
    "\n",
    "df_unique_start= df['START*'].unique()\n",
    "df_unique_start"
   ]
  },
  {
   "cell_type": "markdown",
   "metadata": {
    "id": "s3s-pY1R198_"
   },
   "source": [
    "## Q12. What is the total number of unique start locations? (2 points)\n",
    "#### Note: Use the original dataframe without dropping 'NA' values"
   ]
  },
  {
   "cell_type": "code",
   "execution_count": 22,
   "metadata": {
    "colab": {
     "base_uri": "https://localhost:8080/"
    },
    "id": "OOZy88AA199A",
    "outputId": "e0c77ca6-7379-4546-f980-5e3dc9db8074"
   },
   "outputs": [
    {
     "data": {
      "text/plain": [
       "176"
      ]
     },
     "execution_count": 22,
     "metadata": {},
     "output_type": "execute_result"
    }
   ],
   "source": [
    "uber_drives_unique_start= len(uber_drives['START*'].unique())\n",
    "uber_drives_unique_start"
   ]
  },
  {
   "cell_type": "code",
   "execution_count": 23,
   "metadata": {},
   "outputs": [],
   "source": [
    "# There are 176 Unique start locations in original dataframe."
   ]
  },
  {
   "cell_type": "markdown",
   "metadata": {
    "id": "LuKFv1_P199D"
   },
   "source": [
    "## Q13. What is the total number of unique stop locations. (2 points)\n",
    "#### Note: Use the original dataframe without dropping 'NA' values."
   ]
  },
  {
   "cell_type": "code",
   "execution_count": 44,
   "metadata": {
    "colab": {
     "base_uri": "https://localhost:8080/"
    },
    "id": "5YeWcpZT199E",
    "outputId": "6e7f87a0-29e8-4bd3-9ee2-fc32b5259767"
   },
   "outputs": [
    {
     "data": {
      "text/plain": [
       "187"
      ]
     },
     "execution_count": 44,
     "metadata": {},
     "output_type": "execute_result"
    }
   ],
   "source": [
    "uber_drives_unique_stop= len(uber_drives['STOP*'].unique())\n",
    "uber_drives_unique_stop"
   ]
  },
  {
   "cell_type": "code",
   "execution_count": null,
   "metadata": {},
   "outputs": [],
   "source": [
    "# There are 187 Unique stop locations in original dataframe."
   ]
  },
  {
   "cell_type": "markdown",
   "metadata": {
    "id": "VmkTnPlt199H"
   },
   "source": [
    "## Q14. Display all Uber trips that has the starting point as San Francisco. (2 points)\n",
    "#### Note: Use the original dataframe without dropping the 'NA' values.\n"
   ]
  },
  {
   "cell_type": "code",
   "execution_count": 46,
   "metadata": {
    "colab": {
     "base_uri": "https://localhost:8080/",
     "height": 297
    },
    "id": "fwhKZQfs199I",
    "outputId": "949bc9c3-ed15-4299-95e4-c42980a2dfd6"
   },
   "outputs": [
    {
     "data": {
      "text/html": [
       "<div>\n",
       "<style scoped>\n",
       "    .dataframe tbody tr th:only-of-type {\n",
       "        vertical-align: middle;\n",
       "    }\n",
       "\n",
       "    .dataframe tbody tr th {\n",
       "        vertical-align: top;\n",
       "    }\n",
       "\n",
       "    .dataframe thead th {\n",
       "        text-align: right;\n",
       "    }\n",
       "</style>\n",
       "<table border=\"1\" class=\"dataframe\">\n",
       "  <thead>\n",
       "    <tr style=\"text-align: right;\">\n",
       "      <th></th>\n",
       "      <th>START_DATE*</th>\n",
       "      <th>END_DATE*</th>\n",
       "      <th>CATEGORY*</th>\n",
       "      <th>START*</th>\n",
       "      <th>STOP*</th>\n",
       "      <th>MILES*</th>\n",
       "      <th>PURPOSE*</th>\n",
       "    </tr>\n",
       "  </thead>\n",
       "  <tbody>\n",
       "    <tr>\n",
       "      <th>362</th>\n",
       "      <td>05-09-2016 14:39</td>\n",
       "      <td>05-09-2016 15:06</td>\n",
       "      <td>Business</td>\n",
       "      <td>San Francisco</td>\n",
       "      <td>Palo Alto</td>\n",
       "      <td>20.5</td>\n",
       "      <td>Between Offices</td>\n",
       "    </tr>\n",
       "    <tr>\n",
       "      <th>440</th>\n",
       "      <td>6/14/2016 16:09</td>\n",
       "      <td>6/14/2016 16:39</td>\n",
       "      <td>Business</td>\n",
       "      <td>San Francisco</td>\n",
       "      <td>Emeryville</td>\n",
       "      <td>11.6</td>\n",
       "      <td>Meeting</td>\n",
       "    </tr>\n",
       "    <tr>\n",
       "      <th>836</th>\n",
       "      <td>10/19/2016 14:02</td>\n",
       "      <td>10/19/2016 14:31</td>\n",
       "      <td>Business</td>\n",
       "      <td>San Francisco</td>\n",
       "      <td>Berkeley</td>\n",
       "      <td>10.8</td>\n",
       "      <td>NaN</td>\n",
       "    </tr>\n",
       "    <tr>\n",
       "      <th>917</th>\n",
       "      <td>11-07-2016 19:17</td>\n",
       "      <td>11-07-2016 19:57</td>\n",
       "      <td>Business</td>\n",
       "      <td>San Francisco</td>\n",
       "      <td>Berkeley</td>\n",
       "      <td>13.2</td>\n",
       "      <td>Between Offices</td>\n",
       "    </tr>\n",
       "    <tr>\n",
       "      <th>919</th>\n",
       "      <td>11-08-2016 12:16</td>\n",
       "      <td>11-08-2016 12:49</td>\n",
       "      <td>Business</td>\n",
       "      <td>San Francisco</td>\n",
       "      <td>Berkeley</td>\n",
       "      <td>11.3</td>\n",
       "      <td>Meeting</td>\n",
       "    </tr>\n",
       "    <tr>\n",
       "      <th>927</th>\n",
       "      <td>11-09-2016 18:40</td>\n",
       "      <td>11-09-2016 19:17</td>\n",
       "      <td>Business</td>\n",
       "      <td>San Francisco</td>\n",
       "      <td>Oakland</td>\n",
       "      <td>12.7</td>\n",
       "      <td>Customer Visit</td>\n",
       "    </tr>\n",
       "    <tr>\n",
       "      <th>933</th>\n",
       "      <td>11-10-2016 15:17</td>\n",
       "      <td>11-10-2016 15:22</td>\n",
       "      <td>Business</td>\n",
       "      <td>San Francisco</td>\n",
       "      <td>Oakland</td>\n",
       "      <td>9.9</td>\n",
       "      <td>Temporary Site</td>\n",
       "    </tr>\n",
       "    <tr>\n",
       "      <th>966</th>\n",
       "      <td>11/15/2016 20:44</td>\n",
       "      <td>11/15/2016 21:00</td>\n",
       "      <td>Business</td>\n",
       "      <td>San Francisco</td>\n",
       "      <td>Berkeley</td>\n",
       "      <td>11.8</td>\n",
       "      <td>Temporary Site</td>\n",
       "    </tr>\n",
       "  </tbody>\n",
       "</table>\n",
       "</div>"
      ],
      "text/plain": [
       "          START_DATE*         END_DATE* CATEGORY*         START*       STOP*  \\\n",
       "362  05-09-2016 14:39  05-09-2016 15:06  Business  San Francisco   Palo Alto   \n",
       "440   6/14/2016 16:09   6/14/2016 16:39  Business  San Francisco  Emeryville   \n",
       "836  10/19/2016 14:02  10/19/2016 14:31  Business  San Francisco    Berkeley   \n",
       "917  11-07-2016 19:17  11-07-2016 19:57  Business  San Francisco    Berkeley   \n",
       "919  11-08-2016 12:16  11-08-2016 12:49  Business  San Francisco    Berkeley   \n",
       "927  11-09-2016 18:40  11-09-2016 19:17  Business  San Francisco     Oakland   \n",
       "933  11-10-2016 15:17  11-10-2016 15:22  Business  San Francisco     Oakland   \n",
       "966  11/15/2016 20:44  11/15/2016 21:00  Business  San Francisco    Berkeley   \n",
       "\n",
       "     MILES*         PURPOSE*  \n",
       "362    20.5  Between Offices  \n",
       "440    11.6          Meeting  \n",
       "836    10.8              NaN  \n",
       "917    13.2  Between Offices  \n",
       "919    11.3          Meeting  \n",
       "927    12.7   Customer Visit  \n",
       "933     9.9   Temporary Site  \n",
       "966    11.8   Temporary Site  "
      ]
     },
     "execution_count": 46,
     "metadata": {},
     "output_type": "execute_result"
    }
   ],
   "source": [
    "uber_drives_start_sanfrancisco= uber_drives[uber_drives['START*']=='San Francisco']\n",
    "uber_drives_start_sanfrancisco"
   ]
  },
  {
   "cell_type": "code",
   "execution_count": null,
   "metadata": {},
   "outputs": [],
   "source": [
    "# There are 8 uber trips in the original dataset which has starting point as San Francisco."
   ]
  },
  {
   "cell_type": "markdown",
   "metadata": {
    "id": "ZMsuzJcG199O"
   },
   "source": [
    "## Q15. What is the most popular starting point for the Uber drivers? (2 points)\n",
    "#### Note: Use the original dataframe without dropping the 'NA' values.\n",
    "\n",
    "#### Hint:Popular means the place that is visited the most"
   ]
  },
  {
   "cell_type": "code",
   "execution_count": 57,
   "metadata": {
    "colab": {
     "base_uri": "https://localhost:8080/"
    },
    "id": "a5QGyjza199P",
    "outputId": "e811a583-6780-4729-90ab-6f1e3a3e2716"
   },
   "outputs": [
    {
     "data": {
      "text/plain": [
       "Cary    201\n",
       "Name: START*, dtype: int64"
      ]
     },
     "execution_count": 57,
     "metadata": {},
     "output_type": "execute_result"
    }
   ],
   "source": [
    "uber_drives_popular_startpoint= uber_drives['START*'].value_counts().head(1)\n",
    "uber_drives_popular_startpoint"
   ]
  },
  {
   "cell_type": "code",
   "execution_count": null,
   "metadata": {},
   "outputs": [],
   "source": [
    "# Cary is the most popular start point for the uber drivers."
   ]
  },
  {
   "cell_type": "markdown",
   "metadata": {
    "id": "S13-HiPG199T"
   },
   "source": [
    "## Q16. What is the most popular dropping point for the Uber drivers? (2 points)\n",
    "#### Note: Use the original dataframe without dropping the 'NA' values.\n",
    "\n",
    "#### Hint: Popular means the place that is visited the most"
   ]
  },
  {
   "cell_type": "code",
   "execution_count": 58,
   "metadata": {
    "colab": {
     "base_uri": "https://localhost:8080/"
    },
    "id": "YP-hwvNT199T",
    "outputId": "725bec1c-38bc-401f-f71d-dc23d22640cd"
   },
   "outputs": [
    {
     "data": {
      "text/plain": [
       "Cary    203\n",
       "Name: STOP*, dtype: int64"
      ]
     },
     "execution_count": 58,
     "metadata": {},
     "output_type": "execute_result"
    }
   ],
   "source": [
    "uber_drives_popular_stoppoint= uber_drives['STOP*'].value_counts().head(1)\n",
    "uber_drives_popular_stoppoint"
   ]
  },
  {
   "cell_type": "code",
   "execution_count": null,
   "metadata": {},
   "outputs": [],
   "source": [
    "# Cary is the most popular drop point for the uber drivers."
   ]
  },
  {
   "cell_type": "markdown",
   "metadata": {
    "id": "6Iqizk7B199W"
   },
   "source": [
    "## Q17. What is the most frequent route taken by Uber drivers. (3 points)\n",
    "#### Note: This question is based on the new dataframe with no 'na' values.\n",
    "#### Hint-Print the most frequent route taken by Uber drivers (Route= combination of START & END points present in the Data set)."
   ]
  },
  {
   "cell_type": "code",
   "execution_count": 63,
   "metadata": {
    "colab": {
     "base_uri": "https://localhost:8080/"
    },
    "id": "f41v9gc4199X",
    "outputId": "80499077-8872-4f3f-a504-d648ad8ec910"
   },
   "outputs": [
    {
     "data": {
      "text/plain": [
       "START*  STOP*      \n",
       "Cary    Morrisville    52\n",
       "dtype: int64"
      ]
     },
     "execution_count": 63,
     "metadata": {},
     "output_type": "execute_result"
    }
   ],
   "source": [
    "df_frequent_route= df.groupby(['START*','STOP*']).size().sort_values(ascending=False).head(1)\n",
    "df_frequent_route"
   ]
  },
  {
   "cell_type": "code",
   "execution_count": null,
   "metadata": {},
   "outputs": [],
   "source": [
    "# The most frequent route taken by Uber drivers is from Cary to Morrisville."
   ]
  },
  {
   "cell_type": "markdown",
   "metadata": {
    "id": "oBrYyZ-L199Z"
   },
   "source": [
    "## Q18. Display all types of purposes for the trip in an array. (2 points)\n",
    "#### Note: This question is based on the new dataframe with no 'NA' values."
   ]
  },
  {
   "cell_type": "code",
   "execution_count": 68,
   "metadata": {
    "colab": {
     "base_uri": "https://localhost:8080/"
    },
    "id": "p3fe_lTe199a",
    "outputId": "42c0d950-2141-4e13-9684-27b3c4dda5b2"
   },
   "outputs": [
    {
     "data": {
      "text/plain": [
       "array(['Meal/Entertain', 'Errand/Supplies', 'Meeting', 'Customer Visit',\n",
       "       'Temporary Site', 'Between Offices', 'Charity ($)', 'Commute',\n",
       "       'Moving', 'Airport/Travel'], dtype=object)"
      ]
     },
     "execution_count": 68,
     "metadata": {},
     "output_type": "execute_result"
    }
   ],
   "source": [
    "df_purpose= df['PURPOSE*'].unique()\n",
    "df_purpose"
   ]
  },
  {
   "cell_type": "markdown",
   "metadata": {
    "id": "WBN9Ufxc199d"
   },
   "source": [
    "## Q19. Plot a bar graph of Purpose vs Miles(Distance). What can you infer from the plot(2 +2 points)\n",
    "#### Note: Use the original dataframe without dropping the 'NA' values.\n",
    "#### Hint:You have to plot total/sum miles per purpose"
   ]
  },
  {
   "cell_type": "code",
   "execution_count": 104,
   "metadata": {
    "colab": {
     "base_uri": "https://localhost:8080/",
     "height": 351
    },
    "id": "JaNSQ_qSa-Rg",
    "outputId": "4314b7a0-0f56-441d-ee93-e9c723e75115"
   },
   "outputs": [
    {
     "data": {
      "text/html": [
       "<div>\n",
       "<style scoped>\n",
       "    .dataframe tbody tr th:only-of-type {\n",
       "        vertical-align: middle;\n",
       "    }\n",
       "\n",
       "    .dataframe tbody tr th {\n",
       "        vertical-align: top;\n",
       "    }\n",
       "\n",
       "    .dataframe thead th {\n",
       "        text-align: right;\n",
       "    }\n",
       "</style>\n",
       "<table border=\"1\" class=\"dataframe\">\n",
       "  <thead>\n",
       "    <tr style=\"text-align: right;\">\n",
       "      <th></th>\n",
       "      <th>PURPOSE*</th>\n",
       "      <th>MILES*</th>\n",
       "    </tr>\n",
       "  </thead>\n",
       "  <tbody>\n",
       "    <tr>\n",
       "      <th>0</th>\n",
       "      <td>Meeting</td>\n",
       "      <td>2851.3</td>\n",
       "    </tr>\n",
       "    <tr>\n",
       "      <th>1</th>\n",
       "      <td>Customer Visit</td>\n",
       "      <td>2089.5</td>\n",
       "    </tr>\n",
       "    <tr>\n",
       "      <th>2</th>\n",
       "      <td>Meal/Entertain</td>\n",
       "      <td>911.7</td>\n",
       "    </tr>\n",
       "    <tr>\n",
       "      <th>3</th>\n",
       "      <td>Temporary Site</td>\n",
       "      <td>523.7</td>\n",
       "    </tr>\n",
       "    <tr>\n",
       "      <th>4</th>\n",
       "      <td>Errand/Supplies</td>\n",
       "      <td>508.0</td>\n",
       "    </tr>\n",
       "    <tr>\n",
       "      <th>5</th>\n",
       "      <td>Between Offices</td>\n",
       "      <td>197.0</td>\n",
       "    </tr>\n",
       "    <tr>\n",
       "      <th>6</th>\n",
       "      <td>Commute</td>\n",
       "      <td>180.2</td>\n",
       "    </tr>\n",
       "    <tr>\n",
       "      <th>7</th>\n",
       "      <td>Moving</td>\n",
       "      <td>18.2</td>\n",
       "    </tr>\n",
       "    <tr>\n",
       "      <th>8</th>\n",
       "      <td>Airport/Travel</td>\n",
       "      <td>16.5</td>\n",
       "    </tr>\n",
       "    <tr>\n",
       "      <th>9</th>\n",
       "      <td>Charity ($)</td>\n",
       "      <td>15.1</td>\n",
       "    </tr>\n",
       "  </tbody>\n",
       "</table>\n",
       "</div>"
      ],
      "text/plain": [
       "          PURPOSE*  MILES*\n",
       "0          Meeting  2851.3\n",
       "1   Customer Visit  2089.5\n",
       "2   Meal/Entertain   911.7\n",
       "3   Temporary Site   523.7\n",
       "4  Errand/Supplies   508.0\n",
       "5  Between Offices   197.0\n",
       "6          Commute   180.2\n",
       "7           Moving    18.2\n",
       "8   Airport/Travel    16.5\n",
       "9      Charity ($)    15.1"
      ]
     },
     "execution_count": 104,
     "metadata": {},
     "output_type": "execute_result"
    }
   ],
   "source": [
    "uber_drives_plot= uber_drives.groupby('PURPOSE*')['MILES*'].sum().sort_values(ascending=False)\n",
    "uber_drives_plot= uber_drives_plot.reset_index()\n",
    "uber_drives_plot"
   ]
  },
  {
   "cell_type": "code",
   "execution_count": 94,
   "metadata": {},
   "outputs": [
    {
     "data": {
      "text/plain": [
       "(array([0, 1, 2, 3, 4, 5, 6, 7, 8, 9]),\n",
       " [Text(0, 0, 'Meeting'),\n",
       "  Text(1, 0, 'Customer Visit'),\n",
       "  Text(2, 0, 'Meal/Entertain'),\n",
       "  Text(3, 0, 'Temporary Site'),\n",
       "  Text(4, 0, 'Errand/Supplies'),\n",
       "  Text(5, 0, 'Between Offices'),\n",
       "  Text(6, 0, 'Commute'),\n",
       "  Text(7, 0, 'Moving'),\n",
       "  Text(8, 0, 'Airport/Travel'),\n",
       "  Text(9, 0, 'Charity ($)')])"
      ]
     },
     "execution_count": 94,
     "metadata": {},
     "output_type": "execute_result"
    },
    {
     "data": {
      "image/png": "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\n",
      "text/plain": [
       "<Figure size 432x288 with 1 Axes>"
      ]
     },
     "metadata": {
      "needs_background": "light"
     },
     "output_type": "display_data"
    }
   ],
   "source": [
    "uber_drives_plot.columns= ['PURPOSE*' ,'sum_of_miles']\n",
    "sns.barplot(data= uber_drives_plot, x= 'PURPOSE*' , y ='sum_of_miles')\n",
    "plt.xticks(rotation=90)"
   ]
  },
  {
   "cell_type": "code",
   "execution_count": null,
   "metadata": {},
   "outputs": [],
   "source": [
    "# From the above graph we can infer that Purpose of most trips are for 'Meeting' and the least number of trips are for 'Charity' based on above observations."
   ]
  },
  {
   "cell_type": "markdown",
   "metadata": {
    "id": "b7-pD446199j"
   },
   "source": [
    "## Q20. Display a dataframe of Purpose and the total distance travelled for that particular Purpose. (3 points)\n",
    "#### Note: Use the original dataframe without dropping \"NA\" values"
   ]
  },
  {
   "cell_type": "code",
   "execution_count": 97,
   "metadata": {
    "colab": {
     "base_uri": "https://localhost:8080/",
     "height": 390
    },
    "id": "Em4d7Ng9199k",
    "outputId": "abe48585-adf0-4848-bc0e-7023e883f12c"
   },
   "outputs": [
    {
     "data": {
      "text/html": [
       "<div>\n",
       "<style scoped>\n",
       "    .dataframe tbody tr th:only-of-type {\n",
       "        vertical-align: middle;\n",
       "    }\n",
       "\n",
       "    .dataframe tbody tr th {\n",
       "        vertical-align: top;\n",
       "    }\n",
       "\n",
       "    .dataframe thead th {\n",
       "        text-align: right;\n",
       "    }\n",
       "</style>\n",
       "<table border=\"1\" class=\"dataframe\">\n",
       "  <thead>\n",
       "    <tr style=\"text-align: right;\">\n",
       "      <th></th>\n",
       "      <th>PURPOSE*</th>\n",
       "      <th>MILES*</th>\n",
       "    </tr>\n",
       "  </thead>\n",
       "  <tbody>\n",
       "    <tr>\n",
       "      <th>0</th>\n",
       "      <td>Meeting</td>\n",
       "      <td>2851.3</td>\n",
       "    </tr>\n",
       "    <tr>\n",
       "      <th>1</th>\n",
       "      <td>Customer Visit</td>\n",
       "      <td>2089.5</td>\n",
       "    </tr>\n",
       "    <tr>\n",
       "      <th>2</th>\n",
       "      <td>Meal/Entertain</td>\n",
       "      <td>911.7</td>\n",
       "    </tr>\n",
       "    <tr>\n",
       "      <th>3</th>\n",
       "      <td>Temporary Site</td>\n",
       "      <td>523.7</td>\n",
       "    </tr>\n",
       "    <tr>\n",
       "      <th>4</th>\n",
       "      <td>Errand/Supplies</td>\n",
       "      <td>508.0</td>\n",
       "    </tr>\n",
       "    <tr>\n",
       "      <th>5</th>\n",
       "      <td>Between Offices</td>\n",
       "      <td>197.0</td>\n",
       "    </tr>\n",
       "    <tr>\n",
       "      <th>6</th>\n",
       "      <td>Commute</td>\n",
       "      <td>180.2</td>\n",
       "    </tr>\n",
       "    <tr>\n",
       "      <th>7</th>\n",
       "      <td>Moving</td>\n",
       "      <td>18.2</td>\n",
       "    </tr>\n",
       "    <tr>\n",
       "      <th>8</th>\n",
       "      <td>Airport/Travel</td>\n",
       "      <td>16.5</td>\n",
       "    </tr>\n",
       "    <tr>\n",
       "      <th>9</th>\n",
       "      <td>Charity ($)</td>\n",
       "      <td>15.1</td>\n",
       "    </tr>\n",
       "  </tbody>\n",
       "</table>\n",
       "</div>"
      ],
      "text/plain": [
       "          PURPOSE*  MILES*\n",
       "0          Meeting  2851.3\n",
       "1   Customer Visit  2089.5\n",
       "2   Meal/Entertain   911.7\n",
       "3   Temporary Site   523.7\n",
       "4  Errand/Supplies   508.0\n",
       "5  Between Offices   197.0\n",
       "6          Commute   180.2\n",
       "7           Moving    18.2\n",
       "8   Airport/Travel    16.5\n",
       "9      Charity ($)    15.1"
      ]
     },
     "execution_count": 97,
     "metadata": {},
     "output_type": "execute_result"
    }
   ],
   "source": [
    "uber_drives_plot= uber_drives.groupby('PURPOSE*')['MILES*'].sum().sort_values(ascending=False)\n",
    "uber_drives_plot= uber_drives_plot.reset_index()\n",
    "uber_drives_plot"
   ]
  },
  {
   "cell_type": "markdown",
   "metadata": {
    "id": "CIZBaeSt199o"
   },
   "source": [
    "## Q21. Generate a plot showing count of trips vs category of trips. What can you infer from the plot (2 +1 points)\n",
    "#### Note: Use the original dataframe without dropping the 'NA' values."
   ]
  },
  {
   "cell_type": "code",
   "execution_count": 98,
   "metadata": {
    "colab": {
     "base_uri": "https://localhost:8080/"
    },
    "id": "fRuxSI0W199p",
    "outputId": "adc11110-b792-40e9-e875-f5e0479037ee"
   },
   "outputs": [
    {
     "data": {
      "text/plain": [
       "Business    1078\n",
       "Personal      77\n",
       "Name: CATEGORY*, dtype: int64"
      ]
     },
     "execution_count": 98,
     "metadata": {},
     "output_type": "execute_result"
    }
   ],
   "source": [
    "uber_drives['CATEGORY*'].value_counts()"
   ]
  },
  {
   "cell_type": "code",
   "execution_count": 99,
   "metadata": {},
   "outputs": [
    {
     "name": "stderr",
     "output_type": "stream",
     "text": [
      "C:\\Users\\divya\\anaconda3\\lib\\site-packages\\seaborn\\_decorators.py:36: FutureWarning: Pass the following variable as a keyword arg: x. From version 0.12, the only valid positional argument will be `data`, and passing other arguments without an explicit keyword will result in an error or misinterpretation.\n",
      "  warnings.warn(\n"
     ]
    },
    {
     "data": {
      "text/plain": [
       "<AxesSubplot:xlabel='CATEGORY*', ylabel='count'>"
      ]
     },
     "execution_count": 99,
     "metadata": {},
     "output_type": "execute_result"
    },
    {
     "data": {
      "image/png": "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\n",
      "text/plain": [
       "<Figure size 432x288 with 1 Axes>"
      ]
     },
     "metadata": {
      "needs_background": "light"
     },
     "output_type": "display_data"
    }
   ],
   "source": [
    "sns.countplot(uber_drives['CATEGORY*'])"
   ]
  },
  {
   "cell_type": "code",
   "execution_count": null,
   "metadata": {},
   "outputs": [],
   "source": [
    "# From the above graph, we can infer that there were 1078 trips under Business Category and 77 trips under Personal category."
   ]
  },
  {
   "cell_type": "markdown",
   "metadata": {
    "id": "VgzSzOt9199t"
   },
   "source": [
    "## Q22. What percentage of Miles were clocked under Business Category and what percentage of Miles were clocked under Personal Category ? (3 points)\n",
    "\n",
    "### Note:Use the original dataframe without dropping the 'NA' values. \n"
   ]
  },
  {
   "cell_type": "code",
   "execution_count": 102,
   "metadata": {
    "colab": {
     "base_uri": "https://localhost:8080/",
     "height": 142
    },
    "id": "K6ExiAiI199u",
    "outputId": "10af8841-c69f-40a1-a97f-5385f54d463e"
   },
   "outputs": [
    {
     "data": {
      "text/plain": [
       "CATEGORY*\n",
       "Business    11487.0\n",
       "Personal      717.7\n",
       "Name: MILES*, dtype: float64"
      ]
     },
     "execution_count": 102,
     "metadata": {},
     "output_type": "execute_result"
    }
   ],
   "source": [
    "uber_drives.groupby('CATEGORY*')['MILES*'].sum().sort_values(ascending=False)"
   ]
  },
  {
   "cell_type": "code",
   "execution_count": 103,
   "metadata": {},
   "outputs": [
    {
     "data": {
      "text/html": [
       "<div>\n",
       "<style scoped>\n",
       "    .dataframe tbody tr th:only-of-type {\n",
       "        vertical-align: middle;\n",
       "    }\n",
       "\n",
       "    .dataframe tbody tr th {\n",
       "        vertical-align: top;\n",
       "    }\n",
       "\n",
       "    .dataframe thead th {\n",
       "        text-align: right;\n",
       "    }\n",
       "</style>\n",
       "<table border=\"1\" class=\"dataframe\">\n",
       "  <thead>\n",
       "    <tr style=\"text-align: right;\">\n",
       "      <th></th>\n",
       "      <th>MILES*</th>\n",
       "    </tr>\n",
       "    <tr>\n",
       "      <th>CATEGORY*</th>\n",
       "      <th></th>\n",
       "    </tr>\n",
       "  </thead>\n",
       "  <tbody>\n",
       "    <tr>\n",
       "      <th>Business</th>\n",
       "      <td>94.119479</td>\n",
       "    </tr>\n",
       "    <tr>\n",
       "      <th>Personal</th>\n",
       "      <td>5.880521</td>\n",
       "    </tr>\n",
       "  </tbody>\n",
       "</table>\n",
       "</div>"
      ],
      "text/plain": [
       "              MILES*\n",
       "CATEGORY*           \n",
       "Business   94.119479\n",
       "Personal    5.880521"
      ]
     },
     "execution_count": 103,
     "metadata": {},
     "output_type": "execute_result"
    }
   ],
   "source": [
    "uber_drives_percentage = uber_drives.groupby('CATEGORY*').agg({'MILES*':'sum'})\n",
    "uber_drives_percentage\n",
    "uber_drives_percentage.apply(lambda x: x/x.sum()*100).rename(columns = {'MILES':'% of Miles'})"
   ]
  },
  {
   "cell_type": "code",
   "execution_count": null,
   "metadata": {},
   "outputs": [],
   "source": [
    "# 94.11% of miles were clocked under Business Category and 5.88% of miles were clocked under Personal category."
   ]
  },
  {
   "cell_type": "markdown",
   "metadata": {
    "id": "_kYn6PGTUntA"
   },
   "source": [
    "***THE END***"
   ]
  }
 ],
 "metadata": {
  "colab": {
   "collapsed_sections": [],
   "name": "PDS_UberDriveProject_Solution1.ipynb",
   "provenance": []
  },
  "kernelspec": {
   "display_name": "Python 3",
   "language": "python",
   "name": "python3"
  },
  "language_info": {
   "codemirror_mode": {
    "name": "ipython",
    "version": 3
   },
   "file_extension": ".py",
   "mimetype": "text/x-python",
   "name": "python",
   "nbconvert_exporter": "python",
   "pygments_lexer": "ipython3",
   "version": "3.8.5"
  },
  "toc": {
   "base_numbering": 1,
   "nav_menu": {},
   "number_sections": true,
   "sideBar": true,
   "skip_h1_title": false,
   "title_cell": "Table of Contents",
   "title_sidebar": "Contents",
   "toc_cell": false,
   "toc_position": {},
   "toc_section_display": true,
   "toc_window_display": false
  },
  "varInspector": {
   "cols": {
    "lenName": 16,
    "lenType": 16,
    "lenVar": 40
   },
   "kernels_config": {
    "python": {
     "delete_cmd_postfix": "",
     "delete_cmd_prefix": "del ",
     "library": "var_list.py",
     "varRefreshCmd": "print(var_dic_list())"
    },
    "r": {
     "delete_cmd_postfix": ") ",
     "delete_cmd_prefix": "rm(",
     "library": "var_list.r",
     "varRefreshCmd": "cat(var_dic_list()) "
    }
   },
   "types_to_exclude": [
    "module",
    "function",
    "builtin_function_or_method",
    "instance",
    "_Feature"
   ],
   "window_display": false
  }
 },
 "nbformat": 4,
 "nbformat_minor": 1
}
